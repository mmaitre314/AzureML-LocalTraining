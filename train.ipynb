{
 "cells": [
  {
   "cell_type": "markdown",
   "metadata": {},
   "source": [
    "Track results in Azure Machine Learning workspace"
   ]
  },
  {
   "cell_type": "code",
   "execution_count": 5,
   "metadata": {},
   "outputs": [],
   "source": [
    "import mlflow\n",
    "import mlflow.sklearn\n",
    "from azureml.core import Workspace\n",
    "\n",
    "workspace = Workspace.get(subscription_id=\"xxxxxxxx-xxxx-xxxx-xxxx-xxxxxxxxxxxx\", resource_group=\"xxx\", name=\"xxx\")\n",
    "mlflow.set_tracking_uri(workspace.get_mlflow_tracking_uri())\n",
    "mlflow.set_experiment(\"aml_mlflow_local\")\n",
    "mlflow.sklearn.autolog()"
   ]
  },
  {
   "cell_type": "markdown",
   "metadata": {},
   "source": [
    "Load data"
   ]
  },
  {
   "cell_type": "code",
   "execution_count": 2,
   "metadata": {},
   "outputs": [],
   "source": [
    "from sklearn.datasets import load_diabetes\n",
    "from sklearn.model_selection import train_test_split\n",
    "\n",
    "X, y = load_diabetes(return_X_y = True)\n",
    "X_train, X_test, y_train, y_test = train_test_split(X, y, test_size=0.2, random_state=0)"
   ]
  },
  {
   "cell_type": "markdown",
   "metadata": {},
   "source": [
    "Train model"
   ]
  },
  {
   "cell_type": "code",
   "execution_count": 4,
   "metadata": {},
   "outputs": [],
   "source": [
    "from sklearn.linear_model import Ridge\n",
    "from sklearn.metrics import mean_squared_error\n",
    "\n",
    "with mlflow.start_run() as run:\n",
    "    # Train\n",
    "    model = Ridge(alpha=0.03)\n",
    "    model.fit(X_train, y_train)\n",
    "    \n",
    "    # Test\n",
    "    mse = mean_squared_error(model.predict(X_test), y_test)\n",
    "    mlflow.log_metric('test_mse', mse)"
   ]
  },
  {
   "cell_type": "code",
   "execution_count": null,
   "metadata": {},
   "outputs": [],
   "source": []
  }
 ],
 "metadata": {
  "authors": [
   {
    "name": "sanpil"
   }
  ],
  "category": "training",
  "compute": [
   "Local"
  ],
  "datasets": [
   "Diabetes"
  ],
  "deployment": [
   "None"
  ],
  "exclude_from_index": false,
  "framework": [
   "None"
  ],
  "friendly_name": "Azure Machine Learning - Local Training",
  "index_order": 7,
  "kernelspec": {
   "display_name": "Python 3",
   "language": "python",
   "name": "python3"
  },
  "language_info": {
   "codemirror_mode": {
    "name": "ipython",
    "version": 3
   },
   "file_extension": ".py",
   "mimetype": "text/x-python",
   "name": "python",
   "nbconvert_exporter": "python",
   "pygments_lexer": "ipython3",
   "version": "3.8.10"
  },
  "tags": [
   "None"
  ],
  "task": "Azure Machine Learning - Local Training"
 },
 "nbformat": 4,
 "nbformat_minor": 2
}
